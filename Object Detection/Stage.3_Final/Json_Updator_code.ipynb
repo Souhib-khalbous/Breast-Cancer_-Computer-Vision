{
 "cells": [
  {
   "cell_type": "code",
   "execution_count": 2,
   "metadata": {},
   "outputs": [
    {
     "name": "stdout",
     "output_type": "stream",
     "text": [
      "Updated JSON file saved to: C:\\Users\\User\\Desktop\\Test10\\outputs_updated.json\n"
     ]
    }
   ],
   "source": [
    "import json\n",
    "import csv\n",
    "from collections import defaultdict\n",
    "\n",
    "# File paths\n",
    "kitle_csv_path = r'C:\\Users\\User\\Desktop\\compitission\\kitle_Predictions.csv'\n",
    "kalsifikasyon_csv_path = r'C:\\Users\\User\\Desktop\\compitission\\kalsifikasyon_Predictions.csv'\n",
    "json_input_path = r'C:\\Users\\User\\Desktop\\Test10\\outputs.json'\n",
    "json_output_path = r'C:\\Users\\User\\Desktop\\compitission\\outputs_updated.json'\n",
    "\n",
    "# Load JSON file\n",
    "with open(json_input_path, 'r', encoding='utf-8') as f:\n",
    "    data = json.load(f)\n",
    "\n",
    "# Function to process CSV and update dictionary with \"kitle\" or \"kalsifikasyon\" data\n",
    "def process_csv(csv_path, category_type, patient_predictions):\n",
    "    with open(csv_path, newline='', encoding='utf-8') as csvfile:\n",
    "        reader = csv.DictReader(csvfile)\n",
    "        for row in reader:\n",
    "            # Extract patient ID and image type\n",
    "            image_name = row['Image Name']\n",
    "            patient_id, image_type = image_name.split('_')[0], image_name.split('_')[1].split('.')[0]\n",
    "            image_type = image_type.lower()\n",
    "            image_type = image_type + \".dcm\"\n",
    "            \n",
    "            # Initialize patient if not already in the JSON\n",
    "            if patient_id not in patient_predictions:\n",
    "                patient_predictions[patient_id] = {}\n",
    "                \n",
    "            # Initialize image type if not already there\n",
    "            if image_type not in patient_predictions[patient_id]:\n",
    "                patient_predictions[patient_id][image_type] = {\"kitle\": [], \"kalsifikasyon\": []}\n",
    "\n",
    "            # Category-specific processing\n",
    "            if row['Category'] != 'normal':\n",
    "                # Bounding box and confidence\n",
    "                bounding_box = row['Bounding Box (x1,y1;x2,y2;x3,y3;x4,y4)']\n",
    "                confidence = row['Confidence Score']\n",
    "                # Add to the corresponding category in the image type\n",
    "                patient_predictions[patient_id][image_type][category_type].append({\n",
    "                    \"kutu\": bounding_box,\n",
    "                    \"guven\": confidence\n",
    "                })\n",
    "\n",
    "# Dictionary to store patient predictions\n",
    "patient_predictions = defaultdict(dict)\n",
    "\n",
    "# Process CSV files\n",
    "process_csv(kitle_csv_path, 'kitle', patient_predictions)\n",
    "process_csv(kalsifikasyon_csv_path, 'kalsifikasyon', patient_predictions)\n",
    "\n",
    "# Update the original JSON with the processed data\n",
    "for patient_id, images in patient_predictions.items():\n",
    "    if patient_id in data['tahminler']:\n",
    "        for image_type, findings in images.items():\n",
    "            # Ensure \"dosya\" exists in the JSON structure\n",
    "            if 'dosya' not in data['tahminler'][patient_id]:\n",
    "                data['tahminler'][patient_id]['dosya'] = {}\n",
    "            # Update with \"kitle\" and \"kalsifikasyon\" if present\n",
    "            data['tahminler'][patient_id]['dosya'][image_type] = findings\n",
    "\n",
    "# Write updated JSON to a new file\n",
    "with open(json_output_path, 'w', encoding='utf-8') as f:\n",
    "    json.dump(data, f, ensure_ascii=False, indent=4)\n",
    "\n",
    "print(f\"Updated JSON file saved to: {json_output_path}\")\n"
   ]
  },
  {
   "cell_type": "code",
   "execution_count": null,
   "metadata": {},
   "outputs": [],
   "source": []
  }
 ],
 "metadata": {
  "kernelspec": {
   "display_name": "Python 3",
   "language": "python",
   "name": "python3"
  },
  "language_info": {
   "codemirror_mode": {
    "name": "ipython",
    "version": 3
   },
   "file_extension": ".py",
   "mimetype": "text/x-python",
   "name": "python",
   "nbconvert_exporter": "python",
   "pygments_lexer": "ipython3",
   "version": "3.12.5"
  }
 },
 "nbformat": 4,
 "nbformat_minor": 2
}
